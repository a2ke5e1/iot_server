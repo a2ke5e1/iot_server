{
 "cells": [
  {
   "cell_type": "code",
   "execution_count": 9,
   "id": "initial_id",
   "metadata": {
    "collapsed": true,
    "ExecuteTime": {
     "end_time": "2023-10-12T17:26:28.363672500Z",
     "start_time": "2023-10-12T17:26:28.342741600Z"
    }
   },
   "outputs": [],
   "source": [
    "import pandas as pd"
   ]
  },
  {
   "cell_type": "code",
   "execution_count": 10,
   "outputs": [
    {
     "data": {
      "text/plain": "                     end_time  person_id               start_time  \\\n0     2015-02-22 00:22:36.228      10136  2015-02-22 00:19:30.711   \n1     2015-02-22 00:24:06.377      10136  2015-02-22 00:23:32.685   \n2     2015-03-04 21:12:52.151      10136  2015-03-04 21:05:06.447   \n3     2015-03-04 21:23:40.550      10136  2015-03-04 21:19:17.268   \n4     2015-03-04 21:25:12.996      10136  2015-03-04 21:23:52.928   \n...                       ...        ...                      ...   \n2525  2015-07-10 13:17:57.404      10136  2015-07-10 12:55:19.889   \n2526  2015-07-10 18:17:27.245      10136  2015-07-10 18:11:56.152   \n2527  2015-07-10 18:49:56.856      10136  2015-07-10 18:47:33.380   \n2528  2015-07-10 19:01:41.305      10136  2015-07-10 18:59:06.677   \n2529  2015-07-10 19:06:17.578      10136  2015-07-10 18:58:00.502   \n\n                  type       date  duration  is_high_level  plausability  \\\n0             BoilerOn 2015-02-22       185              0             1   \n1             BoilerOn 2015-02-22        33              0             1   \n2             CookerOn 2015-03-04       465              0             1   \n3             CookerOn 2015-03-04       263              0             1   \n4             CookerOn 2015-03-04        80              0             1   \n...                ...        ...       ...            ...           ...   \n2525  WashingMachineOn 2015-07-10      1357              0             1   \n2526          CookerOn 2015-07-10       331              0             1   \n2527  WashingMachineOn 2015-07-10       143              0             1   \n2528  WashingMachineOn 2015-07-10       154              0             1   \n2529              TvOn 2015-07-10       497              0             1   \n\n       provider  \n0     SmartPlug  \n1     SmartPlug  \n2     SmartPlug  \n3     SmartPlug  \n4     SmartPlug  \n...         ...  \n2525  SmartPlug  \n2526  SmartPlug  \n2527  SmartPlug  \n2528  SmartPlug  \n2529  SmartPlug  \n\n[2530 rows x 9 columns]",
      "text/html": "<div>\n<style scoped>\n    .dataframe tbody tr th:only-of-type {\n        vertical-align: middle;\n    }\n\n    .dataframe tbody tr th {\n        vertical-align: top;\n    }\n\n    .dataframe thead th {\n        text-align: right;\n    }\n</style>\n<table border=\"1\" class=\"dataframe\">\n  <thead>\n    <tr style=\"text-align: right;\">\n      <th></th>\n      <th>end_time</th>\n      <th>person_id</th>\n      <th>start_time</th>\n      <th>type</th>\n      <th>date</th>\n      <th>duration</th>\n      <th>is_high_level</th>\n      <th>plausability</th>\n      <th>provider</th>\n    </tr>\n  </thead>\n  <tbody>\n    <tr>\n      <th>0</th>\n      <td>2015-02-22 00:22:36.228</td>\n      <td>10136</td>\n      <td>2015-02-22 00:19:30.711</td>\n      <td>BoilerOn</td>\n      <td>2015-02-22</td>\n      <td>185</td>\n      <td>0</td>\n      <td>1</td>\n      <td>SmartPlug</td>\n    </tr>\n    <tr>\n      <th>1</th>\n      <td>2015-02-22 00:24:06.377</td>\n      <td>10136</td>\n      <td>2015-02-22 00:23:32.685</td>\n      <td>BoilerOn</td>\n      <td>2015-02-22</td>\n      <td>33</td>\n      <td>0</td>\n      <td>1</td>\n      <td>SmartPlug</td>\n    </tr>\n    <tr>\n      <th>2</th>\n      <td>2015-03-04 21:12:52.151</td>\n      <td>10136</td>\n      <td>2015-03-04 21:05:06.447</td>\n      <td>CookerOn</td>\n      <td>2015-03-04</td>\n      <td>465</td>\n      <td>0</td>\n      <td>1</td>\n      <td>SmartPlug</td>\n    </tr>\n    <tr>\n      <th>3</th>\n      <td>2015-03-04 21:23:40.550</td>\n      <td>10136</td>\n      <td>2015-03-04 21:19:17.268</td>\n      <td>CookerOn</td>\n      <td>2015-03-04</td>\n      <td>263</td>\n      <td>0</td>\n      <td>1</td>\n      <td>SmartPlug</td>\n    </tr>\n    <tr>\n      <th>4</th>\n      <td>2015-03-04 21:25:12.996</td>\n      <td>10136</td>\n      <td>2015-03-04 21:23:52.928</td>\n      <td>CookerOn</td>\n      <td>2015-03-04</td>\n      <td>80</td>\n      <td>0</td>\n      <td>1</td>\n      <td>SmartPlug</td>\n    </tr>\n    <tr>\n      <th>...</th>\n      <td>...</td>\n      <td>...</td>\n      <td>...</td>\n      <td>...</td>\n      <td>...</td>\n      <td>...</td>\n      <td>...</td>\n      <td>...</td>\n      <td>...</td>\n    </tr>\n    <tr>\n      <th>2525</th>\n      <td>2015-07-10 13:17:57.404</td>\n      <td>10136</td>\n      <td>2015-07-10 12:55:19.889</td>\n      <td>WashingMachineOn</td>\n      <td>2015-07-10</td>\n      <td>1357</td>\n      <td>0</td>\n      <td>1</td>\n      <td>SmartPlug</td>\n    </tr>\n    <tr>\n      <th>2526</th>\n      <td>2015-07-10 18:17:27.245</td>\n      <td>10136</td>\n      <td>2015-07-10 18:11:56.152</td>\n      <td>CookerOn</td>\n      <td>2015-07-10</td>\n      <td>331</td>\n      <td>0</td>\n      <td>1</td>\n      <td>SmartPlug</td>\n    </tr>\n    <tr>\n      <th>2527</th>\n      <td>2015-07-10 18:49:56.856</td>\n      <td>10136</td>\n      <td>2015-07-10 18:47:33.380</td>\n      <td>WashingMachineOn</td>\n      <td>2015-07-10</td>\n      <td>143</td>\n      <td>0</td>\n      <td>1</td>\n      <td>SmartPlug</td>\n    </tr>\n    <tr>\n      <th>2528</th>\n      <td>2015-07-10 19:01:41.305</td>\n      <td>10136</td>\n      <td>2015-07-10 18:59:06.677</td>\n      <td>WashingMachineOn</td>\n      <td>2015-07-10</td>\n      <td>154</td>\n      <td>0</td>\n      <td>1</td>\n      <td>SmartPlug</td>\n    </tr>\n    <tr>\n      <th>2529</th>\n      <td>2015-07-10 19:06:17.578</td>\n      <td>10136</td>\n      <td>2015-07-10 18:58:00.502</td>\n      <td>TvOn</td>\n      <td>2015-07-10</td>\n      <td>497</td>\n      <td>0</td>\n      <td>1</td>\n      <td>SmartPlug</td>\n    </tr>\n  </tbody>\n</table>\n<p>2530 rows × 9 columns</p>\n</div>"
     },
     "execution_count": 10,
     "metadata": {},
     "output_type": "execute_result"
    }
   ],
   "source": [
    "# load plugs.csv into the dataframe \n",
    "df = pd.read_csv(\"plugs.csv\", delimiter=\";\")\n",
    "df['date'] = pd.to_datetime(df.date)\n",
    "df"
   ],
   "metadata": {
    "collapsed": false,
    "ExecuteTime": {
     "end_time": "2023-10-12T17:26:28.390144700Z",
     "start_time": "2023-10-12T17:26:28.349731Z"
    }
   },
   "id": "e90e6449c4c21c7e"
  },
  {
   "cell_type": "code",
   "execution_count": 11,
   "outputs": [
    {
     "data": {
      "text/plain": "type\nTvOn                1277\nBoilerOn             660\nCookerOn             514\nWashingMachineOn      59\nVacuumOn              18\nIronOn                 2\nName: count, dtype: int64"
     },
     "execution_count": 11,
     "metadata": {},
     "output_type": "execute_result"
    }
   ],
   "source": [
    "# count number of 'types' for a particular date\n",
    "df[\"type\"].value_counts()"
   ],
   "metadata": {
    "collapsed": false,
    "ExecuteTime": {
     "end_time": "2023-10-12T17:26:28.391143800Z",
     "start_time": "2023-10-12T17:26:28.376190800Z"
    }
   },
   "id": "32825af639688c51"
  },
  {
   "cell_type": "code",
   "execution_count": 16,
   "outputs": [
    {
     "data": {
      "text/plain": "                 type       date  Average Activity Type\n0            BoilerOn 2015-02-22             109.000000\n1            BoilerOn 2015-03-04              88.333333\n2            BoilerOn 2015-03-05              71.833333\n3            BoilerOn 2015-03-06              69.000000\n4            BoilerOn 2015-03-07              61.357143\n..                ...        ...                    ...\n319  WashingMachineOn 2015-05-24             433.000000\n320  WashingMachineOn 2015-05-31             171.500000\n321  WashingMachineOn 2015-06-28              95.857143\n322  WashingMachineOn 2015-07-04             259.142857\n323  WashingMachineOn 2015-07-10             423.666667\n\n[324 rows x 3 columns]",
      "text/html": "<div>\n<style scoped>\n    .dataframe tbody tr th:only-of-type {\n        vertical-align: middle;\n    }\n\n    .dataframe tbody tr th {\n        vertical-align: top;\n    }\n\n    .dataframe thead th {\n        text-align: right;\n    }\n</style>\n<table border=\"1\" class=\"dataframe\">\n  <thead>\n    <tr style=\"text-align: right;\">\n      <th></th>\n      <th>type</th>\n      <th>date</th>\n      <th>Average Activity Type</th>\n    </tr>\n  </thead>\n  <tbody>\n    <tr>\n      <th>0</th>\n      <td>BoilerOn</td>\n      <td>2015-02-22</td>\n      <td>109.000000</td>\n    </tr>\n    <tr>\n      <th>1</th>\n      <td>BoilerOn</td>\n      <td>2015-03-04</td>\n      <td>88.333333</td>\n    </tr>\n    <tr>\n      <th>2</th>\n      <td>BoilerOn</td>\n      <td>2015-03-05</td>\n      <td>71.833333</td>\n    </tr>\n    <tr>\n      <th>3</th>\n      <td>BoilerOn</td>\n      <td>2015-03-06</td>\n      <td>69.000000</td>\n    </tr>\n    <tr>\n      <th>4</th>\n      <td>BoilerOn</td>\n      <td>2015-03-07</td>\n      <td>61.357143</td>\n    </tr>\n    <tr>\n      <th>...</th>\n      <td>...</td>\n      <td>...</td>\n      <td>...</td>\n    </tr>\n    <tr>\n      <th>319</th>\n      <td>WashingMachineOn</td>\n      <td>2015-05-24</td>\n      <td>433.000000</td>\n    </tr>\n    <tr>\n      <th>320</th>\n      <td>WashingMachineOn</td>\n      <td>2015-05-31</td>\n      <td>171.500000</td>\n    </tr>\n    <tr>\n      <th>321</th>\n      <td>WashingMachineOn</td>\n      <td>2015-06-28</td>\n      <td>95.857143</td>\n    </tr>\n    <tr>\n      <th>322</th>\n      <td>WashingMachineOn</td>\n      <td>2015-07-04</td>\n      <td>259.142857</td>\n    </tr>\n    <tr>\n      <th>323</th>\n      <td>WashingMachineOn</td>\n      <td>2015-07-10</td>\n      <td>423.666667</td>\n    </tr>\n  </tbody>\n</table>\n<p>324 rows × 3 columns</p>\n</div>"
     },
     "execution_count": 16,
     "metadata": {},
     "output_type": "execute_result"
    }
   ],
   "source": [
    "# calculate the average 'duration' of each 'type' grouped by 'date'\n",
    "df.groupby(\n",
    "    ['type','date']\n",
    ")['duration'].mean().reset_index(name='Average Activity Type by date')"
   ],
   "metadata": {
    "collapsed": false,
    "ExecuteTime": {
     "end_time": "2023-10-12T17:30:49.680951300Z",
     "start_time": "2023-10-12T17:30:49.664044600Z"
    }
   },
   "id": "23065d2cb6cc91c4"
  },
  {
   "cell_type": "code",
   "execution_count": 18,
   "outputs": [
    {
     "data": {
      "text/plain": "               type  Average Activity Type overall\n0          BoilerOn                      56.995455\n1          CookerOn                     147.272374\n2            IronOn                      17.000000\n3              TvOn                    1171.293657\n4          VacuumOn                     735.388889\n5  WashingMachineOn                     343.305085",
      "text/html": "<div>\n<style scoped>\n    .dataframe tbody tr th:only-of-type {\n        vertical-align: middle;\n    }\n\n    .dataframe tbody tr th {\n        vertical-align: top;\n    }\n\n    .dataframe thead th {\n        text-align: right;\n    }\n</style>\n<table border=\"1\" class=\"dataframe\">\n  <thead>\n    <tr style=\"text-align: right;\">\n      <th></th>\n      <th>type</th>\n      <th>Average Activity Type overall</th>\n    </tr>\n  </thead>\n  <tbody>\n    <tr>\n      <th>0</th>\n      <td>BoilerOn</td>\n      <td>56.995455</td>\n    </tr>\n    <tr>\n      <th>1</th>\n      <td>CookerOn</td>\n      <td>147.272374</td>\n    </tr>\n    <tr>\n      <th>2</th>\n      <td>IronOn</td>\n      <td>17.000000</td>\n    </tr>\n    <tr>\n      <th>3</th>\n      <td>TvOn</td>\n      <td>1171.293657</td>\n    </tr>\n    <tr>\n      <th>4</th>\n      <td>VacuumOn</td>\n      <td>735.388889</td>\n    </tr>\n    <tr>\n      <th>5</th>\n      <td>WashingMachineOn</td>\n      <td>343.305085</td>\n    </tr>\n  </tbody>\n</table>\n</div>"
     },
     "execution_count": 18,
     "metadata": {},
     "output_type": "execute_result"
    }
   ],
   "source": [
    "df.groupby(\n",
    "    ['type']\n",
    ")['duration'].mean().reset_index(name='Average Activity Type overall')"
   ],
   "metadata": {
    "collapsed": false,
    "ExecuteTime": {
     "end_time": "2023-10-12T17:31:33.221897100Z",
     "start_time": "2023-10-12T17:31:33.204823200Z"
    }
   },
   "id": "e1f03b411c0189b4"
  },
  {
   "cell_type": "code",
   "execution_count": null,
   "outputs": [],
   "source": [],
   "metadata": {
    "collapsed": false
   },
   "id": "debdd7de19f3d04b"
  }
 ],
 "metadata": {
  "kernelspec": {
   "display_name": "Python 3",
   "language": "python",
   "name": "python3"
  },
  "language_info": {
   "codemirror_mode": {
    "name": "ipython",
    "version": 2
   },
   "file_extension": ".py",
   "mimetype": "text/x-python",
   "name": "python",
   "nbconvert_exporter": "python",
   "pygments_lexer": "ipython2",
   "version": "2.7.6"
  }
 },
 "nbformat": 4,
 "nbformat_minor": 5
}
